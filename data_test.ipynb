{
 "cells": [
  {
   "cell_type": "markdown",
   "id": "c851f2ab",
   "metadata": {},
   "source": [
    "### Gas Noise Test"
   ]
  },
  {
   "cell_type": "code",
   "execution_count": null,
   "id": "ced33e2a",
   "metadata": {},
   "outputs": [
    {
     "ename": "TypeError",
     "evalue": "generate_gas_sequence() got an unexpected keyword argument 'edge_width_frac'",
     "output_type": "error",
     "traceback": [
      "\u001b[31m---------------------------------------------------------------------------\u001b[39m",
      "\u001b[31mTypeError\u001b[39m                                 Traceback (most recent call last)",
      "\u001b[36mCell\u001b[39m\u001b[36m \u001b[39m\u001b[32mIn[14]\u001b[39m\u001b[32m, line 29\u001b[39m\n\u001b[32m     26\u001b[39m     plt.plot(times, prices_gwei, marker=\u001b[33m'\u001b[39m\u001b[33mo\u001b[39m\u001b[33m'\u001b[39m, alpha=\u001b[32m0.7\u001b[39m, label=label)\n\u001b[32m     28\u001b[39m plt.figure(figsize=(\u001b[32m12\u001b[39m, \u001b[32m6\u001b[39m))\n\u001b[32m---> \u001b[39m\u001b[32m29\u001b[39m \u001b[43mrun_and_plot\u001b[49m\u001b[43m(\u001b[49m\n\u001b[32m     30\u001b[39m \u001b[43m    \u001b[49m\u001b[32;43m0.01\u001b[39;49m\u001b[43m,\u001b[49m\u001b[43m \u001b[49m\u001b[32;43m1.20\u001b[39;49m\u001b[43m,\u001b[49m\n\u001b[32m     31\u001b[39m \u001b[43m    \u001b[49m\u001b[43msteps\u001b[49m\u001b[43m=\u001b[49m\u001b[32;43m1000\u001b[39;49m\u001b[43m,\u001b[49m\n\u001b[32m     32\u001b[39m \u001b[43m    \u001b[49m\u001b[43mseed\u001b[49m\u001b[43m=\u001b[49m\u001b[32;43m5\u001b[39;49m\u001b[43m,\u001b[49m\n\u001b[32m     33\u001b[39m \u001b[43m    \u001b[49m\u001b[43mlabel\u001b[49m\u001b[43m=\u001b[49m\u001b[33;43m'\u001b[39;49m\u001b[33;43mBase (0.01~1.20 gwei, Anti-normal)\u001b[39;49m\u001b[33;43m'\u001b[39;49m\u001b[43m,\u001b[49m\n\u001b[32m     34\u001b[39m \u001b[43m    \u001b[49m\u001b[43medge_width\u001b[49m\u001b[43m=\u001b[49m\u001b[32;43m0.22\u001b[39;49m\u001b[43m,\u001b[49m\n\u001b[32m     35\u001b[39m \u001b[43m    \u001b[49m\u001b[43msigma_frac\u001b[49m\u001b[43m=\u001b[49m\u001b[32;43m0.05\u001b[39;49m\u001b[43m,\u001b[49m\n\u001b[32m     36\u001b[39m \u001b[43m    \u001b[49m\u001b[43mswitch_period\u001b[49m\u001b[43m=\u001b[49m\u001b[32;43m12\u001b[39;49m\u001b[43m,\u001b[49m\u001b[43m       \u001b[49m\u001b[38;5;66;43;03m# optional: cluster low/high in blocks\u001b[39;49;00m\n\u001b[32m     37\u001b[39m \u001b[43m    \u001b[49m\u001b[43minterval_min\u001b[49m\u001b[43m=\u001b[49m\u001b[32;43m0.0\u001b[39;49m\u001b[43m,\u001b[49m\u001b[43m       \u001b[49m\u001b[38;5;66;43;03m# no real sleep in notebooks\u001b[39;49;00m\n\u001b[32m     38\u001b[39m \u001b[43m    \u001b[49m\u001b[43minterval_max\u001b[49m\u001b[43m=\u001b[49m\u001b[32;43m0.0\u001b[39;49m\n\u001b[32m     39\u001b[39m \u001b[43m)\u001b[49m\n\u001b[32m     40\u001b[39m plt.axhline(\u001b[32m0.62\u001b[39m, linestyle=\u001b[33m'\u001b[39m\u001b[33m--\u001b[39m\u001b[33m'\u001b[39m, label=\u001b[33m'\u001b[39m\u001b[33mTarget 0.62 gwei\u001b[39m\u001b[33m'\u001b[39m)\n\u001b[32m     41\u001b[39m plt.xlabel(\u001b[33m'\u001b[39m\u001b[33mTime (s)\u001b[39m\u001b[33m'\u001b[39m)\n",
      "\u001b[36mCell\u001b[39m\u001b[36m \u001b[39m\u001b[32mIn[14]\u001b[39m\u001b[32m, line 12\u001b[39m, in \u001b[36mrun_and_plot\u001b[39m\u001b[34m(min_gwei, max_gwei, steps, seed, label, edge_width, sigma_frac, switch_period, interval_min, interval_max)\u001b[39m\n\u001b[32m     10\u001b[39m min_wei = \u001b[38;5;28mint\u001b[39m(min_gwei * \u001b[32m1e9\u001b[39m)\n\u001b[32m     11\u001b[39m max_wei = \u001b[38;5;28mint\u001b[39m(max_gwei * \u001b[32m1e9\u001b[39m)\n\u001b[32m---> \u001b[39m\u001b[32m12\u001b[39m prices, times = \u001b[43mgenerate_gas_sequence\u001b[49m\u001b[43m(\u001b[49m\n\u001b[32m     13\u001b[39m \u001b[43m    \u001b[49m\u001b[43mmin_gas\u001b[49m\u001b[43m=\u001b[49m\u001b[43mmin_wei\u001b[49m\u001b[43m,\u001b[49m\n\u001b[32m     14\u001b[39m \u001b[43m    \u001b[49m\u001b[43mmax_gas\u001b[49m\u001b[43m=\u001b[49m\u001b[43mmax_wei\u001b[49m\u001b[43m,\u001b[49m\n\u001b[32m     15\u001b[39m \u001b[43m    \u001b[49m\u001b[43msteps\u001b[49m\u001b[43m=\u001b[49m\u001b[43msteps\u001b[49m\u001b[43m,\u001b[49m\n\u001b[32m     16\u001b[39m \u001b[43m    \u001b[49m\u001b[43mswitch_period\u001b[49m\u001b[43m=\u001b[49m\u001b[43mswitch_period\u001b[49m\u001b[43m,\u001b[49m\u001b[43m   \u001b[49m\u001b[38;5;66;43;03m# flip bias every N steps (0=off)\u001b[39;49;00m\n\u001b[32m     17\u001b[39m \u001b[43m    \u001b[49m\u001b[43minterval_min\u001b[49m\u001b[43m=\u001b[49m\u001b[43minterval_min\u001b[49m\u001b[43m,\u001b[49m\n\u001b[32m     18\u001b[39m \u001b[43m    \u001b[49m\u001b[43minterval_max\u001b[49m\u001b[43m=\u001b[49m\u001b[43minterval_max\u001b[49m\u001b[43m,\u001b[49m\u001b[43m     \u001b[49m\u001b[38;5;66;43;03m# set both to 0 to avoid sleeping\u001b[39;49;00m\n\u001b[32m     19\u001b[39m \u001b[43m    \u001b[49m\u001b[43mseed\u001b[49m\u001b[43m=\u001b[49m\u001b[43mseed\u001b[49m\u001b[43m,\u001b[49m\u001b[43m                     \u001b[49m\u001b[38;5;66;43;03m# use seed instead of rng\u001b[39;49;00m\n\u001b[32m     20\u001b[39m \u001b[43m    \u001b[49m\u001b[43mwrite_toml\u001b[49m\u001b[43m=\u001b[49m\u001b[38;5;28;43;01mFalse\u001b[39;49;00m\u001b[43m,\u001b[49m\n\u001b[32m     21\u001b[39m \u001b[43m    \u001b[49m\u001b[43mverbose\u001b[49m\u001b[43m=\u001b[49m\u001b[38;5;28;43;01mFalse\u001b[39;49;00m\u001b[43m,\u001b[49m\n\u001b[32m     22\u001b[39m \u001b[43m    \u001b[49m\u001b[43medge_width_frac\u001b[49m\u001b[43m=\u001b[49m\u001b[43medge_width\u001b[49m\u001b[43m,\u001b[49m\u001b[43m    \u001b[49m\u001b[38;5;66;43;03m# edge band width (0~0.49)\u001b[39;49;00m\n\u001b[32m     23\u001b[39m \u001b[43m    \u001b[49m\u001b[43msigma_frac\u001b[49m\u001b[43m=\u001b[49m\u001b[43msigma_frac\u001b[49m\u001b[43m,\u001b[49m\u001b[43m         \u001b[49m\u001b[38;5;66;43;03m# edge Gaussian sigma fraction\u001b[39;49;00m\n\u001b[32m     24\u001b[39m \u001b[43m\u001b[49m\u001b[43m)\u001b[49m\n\u001b[32m     25\u001b[39m prices_gwei = np.array(prices) / \u001b[32m1e9\u001b[39m\n\u001b[32m     26\u001b[39m plt.plot(times, prices_gwei, marker=\u001b[33m'\u001b[39m\u001b[33mo\u001b[39m\u001b[33m'\u001b[39m, alpha=\u001b[32m0.7\u001b[39m, label=label)\n",
      "\u001b[31mTypeError\u001b[39m: generate_gas_sequence() got an unexpected keyword argument 'edge_width_frac'"
     ]
    },
    {
     "data": {
      "text/plain": [
       "<Figure size 1200x600 with 0 Axes>"
      ]
     },
     "metadata": {},
     "output_type": "display_data"
    }
   ],
   "source": [
    "# IPython cell — robust adapter for different gas_noise.py versions\n",
    "\n",
    "import importlib, inspect\n",
    "import matplotlib.pyplot as plt\n",
    "import numpy as np\n",
    "import gas_noise\n",
    "\n",
    "# reload in case gas_noise.py was edited on disk\n",
    "importlib.reload(gas_noise)\n",
    "\n",
    "def run_and_plot(min_gwei, max_gwei, *,\n",
    "                 steps=200, seed=None, label=None,\n",
    "                 edge_width=0.22, sigma_frac=0.05, switch_period=0,\n",
    "                 interval_min=0.0, interval_max=0.0):\n",
    "    min_wei = int(min_gwei * 1e9)\n",
    "    max_wei = int(max_gwei * 1e9)\n",
    "\n",
    "    # Base kwargs (common to most versions)\n",
    "    kwargs = dict(\n",
    "        min_gas=min_wei,\n",
    "        max_gas=max_wei,\n",
    "        steps=steps,\n",
    "        switch_period=switch_period,\n",
    "        interval_min=interval_min,   # 0 -> no sleep\n",
    "        interval_max=interval_max,   # 0 -> no sleep\n",
    "        seed=seed,\n",
    "        write_toml=False,\n",
    "        verbose=False,\n",
    "    )\n",
    "\n",
    "    # Adapt to function signature\n",
    "    params = inspect.signature(gas_noise.generate_gas_sequence).parameters\n",
    "\n",
    "    # Handle edge/sigma names (new anti-normal versions)\n",
    "    if 'edge_width_frac' in params:\n",
    "        kwargs['edge_width_frac'] = edge_width\n",
    "    elif 'edge_width' in params:\n",
    "        kwargs['edge_width'] = edge_width\n",
    "\n",
    "    if 'sigma_frac' in params:\n",
    "        kwargs['sigma_frac'] = sigma_frac\n",
    "\n",
    "    # If this is an older Beta-U version, fall back to its API\n",
    "    if 'model' in params and 'beta_alpha' in params:\n",
    "        # Switch to the beta_u path; remove anti-normal-specific kwargs\n",
    "        kwargs.update(model='beta_u', beta_alpha=0.5, beta_beta=0.5)\n",
    "        kwargs.pop('edge_width_frac', None)\n",
    "        kwargs.pop('edge_width', None)\n",
    "        kwargs.pop('sigma_frac', None)\n",
    "\n",
    "    prices, times = gas_noise.generate_gas_sequence(**kwargs)\n",
    "    prices_gwei = np.array(prices) / 1e9\n",
    "    plt.plot(times, prices_gwei, marker='o', alpha=0.7, label=label)\n",
    "\n",
    "# --- demo ---\n",
    "plt.figure(figsize=(12, 6))\n",
    "run_and_plot(\n",
    "    0.01, 1.20,\n",
    "    steps=1000,\n",
    "    seed=5,\n",
    "    label='Base (0.01~1.20 gwei)',\n",
    "    edge_width=0.22,\n",
    "    sigma_frac=0.05,\n",
    "    switch_period=12,\n",
    "    interval_min=0.0,  # no real sleep in notebooks\n",
    "    interval_max=0.0\n",
    ")\n",
    "plt.axhline(0.62, linestyle='--', label='Target 0.62 gwei')\n",
    "plt.xlabel('Time (s)'); plt.ylabel('Gas Price (gwei)')\n",
    "plt.title('Gas Noise Simulation (auto-adapted to gas_noise.py)')\n",
    "plt.legend(); plt.grid(True); plt.show()\n"
   ]
  }
 ],
 "metadata": {
  "kernelspec": {
   "display_name": ".venv",
   "language": "python",
   "name": "python3"
  },
  "language_info": {
   "codemirror_mode": {
    "name": "ipython",
    "version": 3
   },
   "file_extension": ".py",
   "mimetype": "text/x-python",
   "name": "python",
   "nbconvert_exporter": "python",
   "pygments_lexer": "ipython3",
   "version": "3.13.3"
  }
 },
 "nbformat": 4,
 "nbformat_minor": 5
}
